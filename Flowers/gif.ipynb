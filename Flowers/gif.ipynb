{
 "cells": [
  {
   "cell_type": "code",
   "execution_count": 1,
   "metadata": {},
   "outputs": [
    {
     "name": "stdout",
     "output_type": "stream",
     "text": [
      "Once deleted, variables cannot be recovered. Proceed (y/[n])? y\n",
      "D:\\!Machine Learning R and Python\\pix2pix\\Flowers\n"
     ]
    }
   ],
   "source": [
    "%reset\n",
    "import os\n",
    "import imageio as io\n",
    "\n",
    "dirpath = os.getcwd()\n",
    "print(dirpath)\n",
    "\n",
    "search_dir = dirpath + '/output/'\n",
    "os.chdir(search_dir)\n",
    "filenames = filter(os.path.isfile, os.listdir(search_dir))\n",
    "filenames = [os.path.join(search_dir, f) for f in filenames] # add path to each file\n",
    "filenames.sort(key=lambda x: os.path.getmtime(x))\n",
    "\n",
    "os.chdir(dirpath)\n",
    "images = []\n",
    "for filename in filenames:\n",
    "    images.append(io.imread(filename))\n",
    "io.mimsave('pix2pix.gif', images, duration = 0.1)"
   ]
  },
  {
   "cell_type": "code",
   "execution_count": 1,
   "metadata": {},
   "outputs": [
    {
     "name": "stdout",
     "output_type": "stream",
     "text": [
      "Once deleted, variables cannot be recovered. Proceed (y/[n])? y\n",
      "D:\\!Machine Learning R and Python\\pix2pix\\Flowers\n"
     ]
    }
   ],
   "source": [
    "%reset\n",
    "import os\n",
    "import imageio as io\n",
    "\n",
    "dirpath = os.getcwd()\n",
    "print(dirpath)\n",
    "\n",
    "search_dir = dirpath + '/output/'\n",
    "os.chdir(search_dir)\n",
    "filenames = filter(os.path.isfile, os.listdir(search_dir))\n",
    "filenames = [os.path.join(search_dir, f) for f in filenames] # add path to each file\n",
    "filenames.sort(key=lambda x: os.path.getmtime(x))\n",
    "\n",
    "import cv2\n",
    "import numpy as np\n",
    "import glob\n",
    " \n",
    "img_array = []\n",
    "for filename in filenames:\n",
    "    img = cv2.imread(filename)\n",
    "    height, width, layers = img.shape\n",
    "    size = (width,height)\n",
    "    img_array.append(img)\n",
    "\n",
    "os.chdir(dirpath)\n",
    "out = cv2.VideoWriter('project.avi',cv2.VideoWriter_fourcc(*'DIVX'), 15, size)\n",
    " \n",
    "for i in range(len(img_array)):\n",
    "    out.write(img_array[i])\n",
    "out.release()"
   ]
  },
  {
   "cell_type": "code",
   "execution_count": null,
   "metadata": {},
   "outputs": [],
   "source": []
  }
 ],
 "metadata": {
  "kernelspec": {
   "display_name": "Python 3",
   "language": "python",
   "name": "python3"
  },
  "language_info": {
   "codemirror_mode": {
    "name": "ipython",
    "version": 3
   },
   "file_extension": ".py",
   "mimetype": "text/x-python",
   "name": "python",
   "nbconvert_exporter": "python",
   "pygments_lexer": "ipython3",
   "version": "3.6.5"
  }
 },
 "nbformat": 4,
 "nbformat_minor": 2
}
