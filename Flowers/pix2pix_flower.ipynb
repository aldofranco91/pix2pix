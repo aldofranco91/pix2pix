{
 "cells": [
  {
   "cell_type": "code",
   "execution_count": 0,
   "metadata": {
    "colab": {
     "base_uri": "https://localhost:8080/",
     "height": 54
    },
    "colab_type": "code",
    "id": "7JKcvgdfjWzA",
    "outputId": "b937970e-1b62-4411-f96a-c461b3bfa5e9"
   },
   "outputs": [
    {
     "name": "stdout",
     "output_type": "stream",
     "text": [
      "Drive already mounted at /content/drive; to attempt to forcibly remount, call drive.mount(\"/content/drive\", force_remount=True).\n"
     ]
    }
   ],
   "source": [
    "from google.colab import drive\n",
    "drive.mount('/content/drive')"
   ]
  },
  {
   "cell_type": "code",
   "execution_count": 0,
   "metadata": {
    "colab": {
     "base_uri": "https://localhost:8080/",
     "height": 34
    },
    "colab_type": "code",
    "id": "K6vw3Sv0tT-q",
    "outputId": "e26cd99e-dc60-4294-e6bc-57de7152f709"
   },
   "outputs": [
    {
     "name": "stdout",
     "output_type": "stream",
     "text": [
      "TensorFlow 2.x selected.\n"
     ]
    }
   ],
   "source": [
    "%tensorflow_version 2.x"
   ]
  },
  {
   "cell_type": "code",
   "execution_count": 0,
   "metadata": {
    "colab": {},
    "colab_type": "code",
    "id": "T1poHGVYHmhO"
   },
   "outputs": [],
   "source": [
    "# Cargar librerias\n",
    "\n",
    "import tensorflow as tf\n",
    "import matplotlib.pyplot as plt\n",
    "import numpy as np\n",
    "import time"
   ]
  },
  {
   "cell_type": "code",
   "execution_count": 5,
   "metadata": {
    "colab": {
     "base_uri": "https://localhost:8080/",
     "height": 34
    },
    "colab_type": "code",
    "id": "KCVqaTvLYTw_",
    "outputId": "90f2e85e-af15-47c1-8019-90a368ebff7e"
   },
   "outputs": [
    {
     "name": "stdout",
     "output_type": "stream",
     "text": [
      "7734 96 24\n"
     ]
    }
   ],
   "source": [
    "# Ruta raíz\n",
    "PATH = \"/content/drive/My Drive/DatosColab/pix2pix_flowers\"\n",
    "\n",
    "# Ruta datos de entrada\n",
    "INPATH = PATH + '/inputFlowers'\n",
    "\n",
    "# Ruta datos de salida\n",
    "OUPATH = PATH + '/targetFlowers'\n",
    "\n",
    "# Ruta de los checkpoints\n",
    "CKPATH = PATH + '/checkpoints'\n",
    "\n",
    "imgurls = !ls -1 \"{INPATH}\"\n",
    "\n",
    "n = 120\n",
    "train_n = round(n*0.80)\n",
    "\n",
    "# Listado randomizado\n",
    "randurls = np.copy(imgurls)\n",
    "\n",
    "np.random.seed(23)\n",
    "np.random.shuffle(randurls)\n",
    "\n",
    "# Partición train/test\n",
    "tr_urls = randurls[:train_n]\n",
    "ts_urls = randurls[train_n:n]\n",
    "\n",
    "print(len(imgurls), len(tr_urls), len(ts_urls))"
   ]
  },
  {
   "cell_type": "code",
   "execution_count": 0,
   "metadata": {
    "colab": {},
    "colab_type": "code",
    "id": "6i6dhr02YTtZ"
   },
   "outputs": [],
   "source": [
    "IMG_WIDTH = 256\n",
    "IMG_HEIGHT = 256\n",
    "\n",
    "# Reescalar imagenes\n",
    "def resize(inimg, tgimg, height, width):\n",
    "  \n",
    "  inimg = tf.image.resize(inimg, [height, width], method=tf.image.ResizeMethod.NEAREST_NEIGHBOR)\n",
    "  tgimg = tf.image.resize(tgimg, [height, width], method=tf.image.ResizeMethod.NEAREST_NEIGHBOR)\n",
    "\n",
    "  return inimg, tgimg"
   ]
  },
  {
   "cell_type": "code",
   "execution_count": 0,
   "metadata": {
    "colab": {},
    "colab_type": "code",
    "id": "Q52ou70VYTq7"
   },
   "outputs": [],
   "source": [
    "# Normalizar [-1, 1]\n",
    "def normalize(inimg, tgimg):\n",
    "  \n",
    "  inimg = (inimg / 127.5) - 1\n",
    "  tgimg = (tgimg / 127.5) - 1\n",
    "\n",
    "  return inimg, tgimg"
   ]
  },
  {
   "cell_type": "code",
   "execution_count": 0,
   "metadata": {
    "colab": {},
    "colab_type": "code",
    "id": "f5BnI7eXoqFP"
   },
   "outputs": [],
   "source": [
    "def random_crop(inimg, tgimg):\n",
    "  stacked_image = tf.stack([inimg, tgimg], axis=0)\n",
    "  cropped_image = tf.image.random_crop( stacked_image, size=[2, IMG_HEIGHT, IMG_WIDTH, 3])\n",
    "\n",
    "  return cropped_image[0], cropped_image[1]"
   ]
  },
  {
   "cell_type": "code",
   "execution_count": 0,
   "metadata": {
    "colab": {},
    "colab_type": "code",
    "id": "SoluQTeYYTpW"
   },
   "outputs": [],
   "source": [
    "@tf.function()\n",
    "def random_jitter(inimg, tgimg):\n",
    "  \n",
    "  # resizing to 286 x 286 x 3\n",
    "  inimg, tgimg = resize(inimg, tgimg, 286, 286)\n",
    "  \n",
    "  # randomly cropping to 256 x 256 x 3\n",
    "  inimg, tgimg = random_crop(inimg, tgimg)\n",
    "\n",
    "  if tf.random.uniform(()) > 0.5:\n",
    "    # random mirroring\n",
    "    inimg = tf.image.flip_left_right(inimg)\n",
    "    tgimg = tf.image.flip_left_right(tgimg)\n",
    "\n",
    "  return inimg, tgimg"
   ]
  },
  {
   "cell_type": "code",
   "execution_count": 0,
   "metadata": {
    "colab": {},
    "colab_type": "code",
    "id": "ZEspgWJHYTnn"
   },
   "outputs": [],
   "source": [
    "def load_image(filename, augment = True):\n",
    "  \n",
    "  inimg = tf.cast(tf.image.decode_jpeg(tf.io.read_file(INPATH + '/' + filename)),tf.float32)[...,:3]\n",
    "  tgimg = tf.cast(tf.image.decode_jpeg(tf.io.read_file(OUPATH + '/' + filename)),tf.float32)[...,:3]\n",
    "  \n",
    "  inimg, tgimg = resize(inimg, tgimg, IMG_HEIGHT, IMG_WIDTH)\n",
    "  \n",
    "  if augment:\n",
    "    inimg, tgimg = random_jitter(inimg, tgimg)\n",
    "    \n",
    "  inimg, tgimg = normalize(inimg, tgimg)\n",
    "  \n",
    "  return inimg, tgimg"
   ]
  },
  {
   "cell_type": "code",
   "execution_count": 0,
   "metadata": {
    "colab": {},
    "colab_type": "code",
    "id": "l3GjbzOZYTlF"
   },
   "outputs": [],
   "source": [
    "def load_train_image(filename):\n",
    "  return load_image(filename, True)\n",
    "\n",
    "def load_test_image(filename):\n",
    "  return load_image(filename, False)"
   ]
  },
  {
   "cell_type": "code",
   "execution_count": 0,
   "metadata": {
    "colab": {
     "base_uri": "https://localhost:8080/",
     "height": 286
    },
    "colab_type": "code",
    "id": "QYVsUj5JYTf_",
    "outputId": "8a8d1713-7d51-4ccd-8bb4-d4383d3d8006"
   },
   "outputs": [
    {
     "data": {
      "text/plain": [
       "<matplotlib.image.AxesImage at 0x7f6ab0205e10>"
      ]
     },
     "execution_count": 11,
     "metadata": {
      "tags": []
     },
     "output_type": "execute_result"
    },
    {
     "data": {
      "image/png": "[encoded data removed]",
      "text/plain": [
       "<Figure size 432x288 with 1 Axes>"
      ]
     },
     "metadata": {
      "tags": []
     },
     "output_type": "display_data"
    }
   ],
   "source": [
    "plt.imshow(((load_train_image(randurls[0])[0] + 1)/2))"
   ]
  },
  {
   "cell_type": "code",
   "execution_count": 0,
   "metadata": {
    "colab": {
     "base_uri": "https://localhost:8080/",
     "height": 286
    },
    "colab_type": "code",
    "id": "CIHXCnrqYTZa",
    "outputId": "9e35184c-1448-4d1f-9915-019a89a15119"
   },
   "outputs": [
    {
     "data": {
      "text/plain": [
       "<matplotlib.image.AxesImage at 0x7f6ab0191c50>"
      ]
     },
     "execution_count": 12,
     "metadata": {
      "tags": []
     },
     "output_type": "execute_result"
    },
    {
     "data": {
      "image/png": "[encoded data removed]",
      "text/plain": [
       "<Figure size 432x288 with 1 Axes>"
      ]
     },
     "metadata": {
      "tags": []
     },
     "output_type": "display_data"
    }
   ],
   "source": [
    "plt.imshow(((load_train_image(randurls[0])[1] + 1)/2))"
   ]
  },
  {
   "cell_type": "markdown",
   "metadata": {
    "colab_type": "text",
    "id": "ADkVZezGwBqt"
   },
   "source": [
    "Input Pipeline"
   ]
  },
  {
   "cell_type": "code",
   "execution_count": 0,
   "metadata": {
    "colab": {},
    "colab_type": "code",
    "id": "voSv3ZyWskz2"
   },
   "outputs": [],
   "source": [
    "train_dataset = tf.data.Dataset.from_tensor_slices(tr_urls)\n",
    "train_dataset = train_dataset.map(load_train_image, num_parallel_calls=tf.data.experimental.AUTOTUNE)\n",
    "train_dataset = train_dataset.batch(1)\n",
    "\n",
    "test_dataset = tf.data.Dataset.from_tensor_slices(ts_urls)\n",
    "test_dataset = test_dataset.map(load_test_image, num_parallel_calls=tf.data.experimental.AUTOTUNE)\n",
    "test_dataset = test_dataset.batch(1)\n",
    "\n",
    "# for inimg, tgimg in train_dataset.take(5):\n",
    "#   plt.imshow(((tgimg[0,...]) + 1) / 2)\n",
    "#   plt.show()"
   ]
  },
  {
   "cell_type": "code",
   "execution_count": 0,
   "metadata": {
    "colab": {},
    "colab_type": "code",
    "id": "oJM410_5skye"
   },
   "outputs": [],
   "source": [
    "def downsample(filters, size, apply_batchnorm=True):\n",
    "  \n",
    "  result = tf.keras.Sequential()\n",
    "  \n",
    "  initializer = tf.random_normal_initializer(0., 0.02)\n",
    "  \n",
    "  # Capa convolucional\n",
    "  result.add(tf.keras.layers.Conv2D(filters,\n",
    "                                    kernel_size = size,\n",
    "                                    strides = 2,\n",
    "                                    padding = 'same',\n",
    "                                    kernel_initializer=initializer,                               \n",
    "                                    use_bias=not apply_batchnorm))\n",
    "                                    \n",
    "  if apply_batchnorm:\n",
    "    # Capa de BatchNorm\n",
    "    result.add(tf.keras.layers.BatchNormalization())\n",
    "    \n",
    "  result.add(tf.keras.layers.LeakyReLU())\n",
    "  \n",
    "  return result"
   ]
  },
  {
   "cell_type": "code",
   "execution_count": 0,
   "metadata": {
    "colab": {},
    "colab_type": "code",
    "id": "F87oVdFsskwl"
   },
   "outputs": [],
   "source": [
    "def upsample(filters, size, apply_dropout=False):\n",
    "  \n",
    "  result = tf.keras.Sequential()\n",
    "  \n",
    "  initializer = tf.random_normal_initializer(0., 0.02)\n",
    "  \n",
    "  # Capa convolucional\n",
    "  result.add(tf.keras.layers.Conv2DTranspose(filters,\n",
    "                                             kernel_size = size,\n",
    "                                             strides = 2,\n",
    "                                             padding = 'same',\n",
    "                                             kernel_initializer=initializer,                               \n",
    "                                             use_bias=False))\n",
    "  # Capa de BatchNorm\n",
    "  result.add(tf.keras.layers.BatchNormalization())\n",
    "  \n",
    "  if apply_dropout:\n",
    "    result.add(tf.keras.layers.Dropout(0.5))\n",
    "    \n",
    "  result.add(tf.keras.layers.LeakyReLU())\n",
    "  \n",
    "  return result"
   ]
  },
  {
   "cell_type": "code",
   "execution_count": 0,
   "metadata": {
    "colab": {},
    "colab_type": "code",
    "id": "vq6J3yhLsktc"
   },
   "outputs": [],
   "source": [
    "def Generator():\n",
    "  \n",
    "  inputs = tf.keras.layers.Input(shape=[None,None,3])\n",
    "  \n",
    "  down_stack = [\n",
    "    downsample(64, 4, apply_batchnorm=False), # (bs, 128, 128, 64)\n",
    "    downsample(128, 4), # (bs, 64, 64, 128)\n",
    "    downsample(256, 4), # (bs, 32, 32, 256)\n",
    "    downsample(512, 4), # (bs, 16, 16, 512)\n",
    "    downsample(512, 4), # (bs, 8, 8, 512)\n",
    "    downsample(512, 4), # (bs, 4, 4, 512)\n",
    "    downsample(512, 4), # (bs, 2, 2, 512)\n",
    "    downsample(512, 4), # (bs, 1, 1, 512)\n",
    "  ]\n",
    "\n",
    "  up_stack = [\n",
    "    upsample(512, 4, apply_dropout=True), # (bs, 2, 2, 1024)\n",
    "    upsample(512, 4, apply_dropout=True), # (bs, 4, 4, 1024)\n",
    "    upsample(512, 4, apply_dropout=True), # (bs, 8, 8, 1024)\n",
    "    upsample(512, 4), # (bs, 16, 16, 1024)\n",
    "    upsample(256, 4), # (bs, 32, 32, 512)\n",
    "    upsample(128, 4), # (bs, 64, 64, 256)\n",
    "    upsample(64, 4), # (bs, 128, 128, 128)\n",
    "  ]\n",
    "  \n",
    "  initializer = tf.random_normal_initializer(0., 0.02)\n",
    "  \n",
    "  last = tf.keras.layers.Conv2DTranspose(filters = 3,\n",
    "                                         kernel_size = 4,\n",
    "                                         strides=2,\n",
    "                                         padding='same',\n",
    "                                         kernel_initializer=initializer,\n",
    "                                         activation='tanh') # (bs, 256, 256, 3)\n",
    "  \n",
    "  concat = tf.keras.layers.Concatenate()\n",
    "\n",
    "  x = inputs\n",
    "  \n",
    "  # Downsampling through the model\n",
    "  skips = []\n",
    "  for down in down_stack:\n",
    "    x = down(x)\n",
    "    skips.append(x)\n",
    "\n",
    "  skips = reversed(skips[:-1])\n",
    "\n",
    "  # Upsampling and establishing the skip connections\n",
    "  for up, skip in zip(up_stack, skips):\n",
    "    x = up(x)\n",
    "    x = concat([x, skip])\n",
    "\n",
    "  last = last(x)\n",
    "\n",
    "  return tf.keras.Model(inputs=inputs, outputs=last)\n",
    "\n",
    "generator = Generator()"
   ]
  },
  {
   "cell_type": "markdown",
   "metadata": {
    "colab_type": "text",
    "id": "TwH8h9BrWb-t"
   },
   "source": [
    "Build the Discriminator"
   ]
  },
  {
   "cell_type": "code",
   "execution_count": 0,
   "metadata": {
    "colab": {},
    "colab_type": "code",
    "id": "i67Ypbi9skpU"
   },
   "outputs": [],
   "source": [
    "def Discriminator():\n",
    "  \n",
    "  initializer = tf.random_normal_initializer(0., 0.02)\n",
    "\n",
    "  inp = tf.keras.layers.Input(shape=[None, None, 3], name='input_image')\n",
    "  tar = tf.keras.layers.Input(shape=[None, None, 3], name='target_image')\n",
    "\n",
    "  x = tf.keras.layers.concatenate([inp, tar]) # (bs, 256, 256, channels*2)\n",
    "\n",
    "  down1 = downsample(64, 4, False)(x) # (bs, 128, 128, 64)\n",
    "  down2 = downsample(128, 4)(down1) # (bs, 64, 64, 128)\n",
    "  down3 = downsample(256, 4)(down2) # (bs, 32, 32, 256)\n",
    "  down4 = downsample(512, 4)(down3) # (bs, 32, 32, 512)\n",
    "\n",
    "  last = tf.keras.layers.Conv2D(filters = 1,\n",
    "                                kernel_size = 4,\n",
    "                                strides=1,\n",
    "                                kernel_initializer=initializer,\n",
    "                                padding = 'same')(down4) \n",
    "  \n",
    "  return tf.keras.Model(inputs=[inp, tar], outputs=last)\n",
    "\n",
    "discriminator = Discriminator()"
   ]
  },
  {
   "cell_type": "markdown",
   "metadata": {
    "colab_type": "text",
    "id": "IOO2qAIZbU60"
   },
   "source": [
    "Define the loss functions and the optimizer"
   ]
  },
  {
   "cell_type": "code",
   "execution_count": 0,
   "metadata": {
    "colab": {},
    "colab_type": "code",
    "id": "mME6Yy-0skn5"
   },
   "outputs": [],
   "source": [
    "loss_object = tf.keras.losses.BinaryCrossentropy(from_logits=True)\n",
    "\n",
    "def discriminator_loss(disc_real_output, disc_generated_output):\n",
    "  real_loss = loss_object(tf.ones_like(disc_real_output), disc_real_output)\n",
    "\n",
    "  generated_loss = loss_object(tf.zeros_like(disc_generated_output), disc_generated_output)\n",
    "\n",
    "  total_disc_loss = real_loss + generated_loss\n",
    "\n",
    "  return total_disc_loss"
   ]
  },
  {
   "cell_type": "code",
   "execution_count": 0,
   "metadata": {
    "colab": {},
    "colab_type": "code",
    "id": "Az20N7gLskle"
   },
   "outputs": [],
   "source": [
    "def generator_loss(disc_generated_output, gen_output, target):\n",
    "  gan_loss = loss_object(tf.ones_like(disc_generated_output), disc_generated_output)\n",
    "\n",
    "  # mean absolute error\n",
    "  l1_loss = tf.reduce_mean(tf.abs(target - gen_output))\n",
    "\n",
    "  total_gen_loss = gan_loss + (LAMBDA * l1_loss)\n",
    "\n",
    "  return total_gen_loss"
   ]
  },
  {
   "cell_type": "code",
   "execution_count": 0,
   "metadata": {
    "colab": {},
    "colab_type": "code",
    "id": "ZK8yg8XQskg8"
   },
   "outputs": [],
   "source": [
    "generator_optimizer = tf.keras.optimizers.Adam(2e-4, beta_1=0.5)\n",
    "discriminator_optimizer = tf.keras.optimizers.Adam(2e-4, beta_1=0.5)"
   ]
  },
  {
   "cell_type": "code",
   "execution_count": 0,
   "metadata": {
    "colab": {},
    "colab_type": "code",
    "id": "INDmpaCsskZa"
   },
   "outputs": [],
   "source": [
    "import os\n",
    "\n",
    "checkpoint_prefix = os.path.join(CKPATH, \"ckpt\")\n",
    "checkpoint = tf.train.Checkpoint(generator_optimizer=generator_optimizer,\n",
    "                                 discriminator_optimizer=discriminator_optimizer,\n",
    "                                 generator=generator,\n",
    "                                 discriminator=discriminator)\n",
    "\n",
    "#checkpoint.restore(tf.train.latest_checkpoint(CKPATH)).assert_consumed()"
   ]
  },
  {
   "cell_type": "code",
   "execution_count": 0,
   "metadata": {
    "colab": {},
    "colab_type": "code",
    "id": "rhdroesbgCh4"
   },
   "outputs": [],
   "source": [
    "def generate_images(model, test_input, tar, save_filename = False, display_imgs = True):\n",
    "\n",
    "  prediction = model(test_input, training=True)\n",
    "\n",
    "  if save_filename:\n",
    "    tf.keras.preprocessing.image.save_img(PATH + '/output/' + save_filename + '.jpg', prediction[0,...])\n",
    "  \n",
    "  plt.figure(figsize=(15,15))\n",
    "\n",
    "  display_list = [test_input[0], tar[0], prediction[0]]\n",
    "  title = ['Input Image', 'Ground Truth', 'Predicted Image']\n",
    "\n",
    "  if display_imgs:\n",
    "    for i in range(3):\n",
    "      plt.subplot(1, 3, i+1)\n",
    "      plt.title(title[i])\n",
    "      # getting the pixel values between [0, 1] to plot it.\n",
    "      plt.imshow(display_list[i] * 0.5 + 0.5)\n",
    "      plt.axis('off')\n",
    "        \n",
    "  plt.show()\n",
    "  time.sleep(3)"
   ]
  },
  {
   "cell_type": "code",
   "execution_count": 0,
   "metadata": {
    "colab": {},
    "colab_type": "code",
    "id": "6NPi24RzyoL2"
   },
   "outputs": [],
   "source": [
    "@tf.function\n",
    "def train_step(input_image, target):\n",
    "  \n",
    "  with tf.GradientTape() as gen_tape, tf.GradientTape() as disc_tape:\n",
    "    \n",
    "    output_image = generator(input_image, training=True)\n",
    "\n",
    "    output_gen_discr = discriminator([output_image, input_image], training=True)\n",
    "\n",
    "    output_trg_discr = discriminator([target, input_image], training=True)\n",
    "\n",
    "    discr_loss = discriminator_loss(output_trg_discr, output_gen_discr)\n",
    "\n",
    "    gen_loss = generator_loss(output_gen_discr, output_image, target)\n",
    "    \n",
    "    generator_grads = gen_tape.gradient(gen_loss, generator.trainable_variables)\n",
    "    \n",
    "    discriminator_grads = disc_tape.gradient(discr_loss, discriminator.trainable_variables)\n",
    "\n",
    "    generator_optimizer.apply_gradients(zip(generator_grads, generator.trainable_variables))\n",
    "    \n",
    "    discriminator_optimizer.apply_gradients(zip(discriminator_grads, discriminator.trainable_variables))\n"
   ]
  },
  {
   "cell_type": "code",
   "execution_count": 0,
   "metadata": {
    "colab": {},
    "colab_type": "code",
    "id": "1p37JX6J_aEU"
   },
   "outputs": [],
   "source": [
    "LAMBDA = 100"
   ]
  },
  {
   "cell_type": "code",
   "execution_count": 0,
   "metadata": {
    "colab": {},
    "colab_type": "code",
    "id": "sXXgAXAFiAS_"
   },
   "outputs": [],
   "source": [
    "from IPython.display import clear_output\n",
    "\n",
    "def train(dataset, epochs):\n",
    "  for epoch in range(epochs):\n",
    "    \n",
    "    imgi = 0\n",
    "    \n",
    "    # Train\n",
    "    for input_image, target in dataset:\n",
    "      print('epoch' + str(epoch) + '- train:' + str(imgi) + '/' + str(len(tr_urls)))\n",
    "      imgi += 1\n",
    "      train_step(input_image, target)\n",
    "      clear_output(wait=True)\n",
    "    \n",
    "    imgi = 0\n",
    "    for inp, tar in test_dataset.take(1):\n",
    "      generate_images(generator, inp, tar, str(imgi) + '_' + str(epoch), display_imgs=True)\n",
    "      imgi += 1\n",
    "\n",
    "    # saving (checkpoint) the model every 20 epochs\n",
    "    if (epoch + 1) % 50 == 0:\n",
    "      checkpoint.save(file_prefix = checkpoint_prefix)"
   ]
  },
  {
   "cell_type": "code",
   "execution_count": 0,
   "metadata": {
    "colab": {
     "base_uri": "https://localhost:8080/",
     "height": 34
    },
    "colab_type": "code",
    "id": "wfWKpZFjiCJR",
    "outputId": "3a0d2201-06a6-4c8f-a0da-da72604467df"
   },
   "outputs": [
    {
     "name": "stdout",
     "output_type": "stream",
     "text": [
      "epoch18- train:95/96\n"
     ]
    }
   ],
   "source": [
    "train(train_dataset, 250)"
   ]
  },
  {
   "cell_type": "code",
   "execution_count": 6,
   "metadata": {
    "colab": {
     "base_uri": "https://localhost:8080/",
     "height": 34
    },
    "colab_type": "code",
    "id": "l-B4BBydiCCG",
    "outputId": "38887315-35ed-42c1-e77e-31c24f5dc785"
   },
   "outputs": [
    {
     "data": {
      "text/plain": [
       "'image_05642.jpg'"
      ]
     },
     "execution_count": 6,
     "metadata": {
      "tags": []
     },
     "output_type": "execute_result"
    }
   ],
   "source": [
    "ts_urls[0]"
   ]
  },
  {
   "cell_type": "code",
   "execution_count": 0,
   "metadata": {
    "colab": {},
    "colab_type": "code",
    "id": "neLPTAWLiB59"
   },
   "outputs": [],
   "source": []
  },
  {
   "cell_type": "code",
   "execution_count": 0,
   "metadata": {
    "colab": {},
    "colab_type": "code",
    "id": "fz1phNX-iBr1"
   },
   "outputs": [],
   "source": []
  }
 ],
 "metadata": {
  "accelerator": "GPU",
  "colab": {
   "collapsed_sections": [],
   "machine_shape": "hm",
   "name": "pix2pix_flower.ipynb",
   "provenance": [],
   "version": "0.3.2"
  },
  "kernelspec": {
   "display_name": "Python 3",
   "language": "python",
   "name": "python3"
  },
  "language_info": {
   "codemirror_mode": {
    "name": "ipython",
    "version": 3
   },
   "file_extension": ".py",
   "mimetype": "text/x-python",
   "name": "python",
   "nbconvert_exporter": "python",
   "pygments_lexer": "ipython3",
   "version": "3.7.6"
  }
 },
 "nbformat": 4,
 "nbformat_minor": 1
}
